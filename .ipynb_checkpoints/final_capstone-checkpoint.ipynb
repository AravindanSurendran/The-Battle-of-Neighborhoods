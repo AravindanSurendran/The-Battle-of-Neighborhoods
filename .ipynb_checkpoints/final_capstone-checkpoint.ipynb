{
 "cells": [
  {
   "cell_type": "code",
   "execution_count": null,
   "metadata": {},
   "outputs": [],
   "source": [
    "# import necessary packages\n",
    "import numpy as np\n",
    "import pandas as pd \n",
    "import json\n",
    "from geopy.geocoders import Nominatim \n",
    "import requests \n",
    "from pandas.io.json import json_normalize\n",
    "import matplotlib.cm as cm\n",
    "import matplotlib.pyplot as plt\n",
    "import matplotlib.colors as colors\n",
    "import folium # map rendering library\n",
    "from bs4 import BeautifulSoup\n",
    "\n",
    "print('Libraries imported.')"
   ]
  },
  {
   "cell_type": "code",
   "execution_count": null,
   "metadata": {},
   "outputs": [],
   "source": [
    "# obtain New York neighborhood data\n",
    "with open('new_york.json') as json_data:\n",
    "    newyork_data = json.load(json_data)\n",
    "    \n",
    "nyneighborhoods = newyork_data['features']\n",
    "\n",
    "# define the dataframe with four columns: City, Borough, Neighborhood, Latitude, Longitude\n",
    "column_names = ['City','Borough', 'Neighborhood', 'Latitude', 'Longitude'] \n",
    "ny_neighborhoods = pd.DataFrame(columns=column_names)\n",
    "\n",
    "for data in nyneighborhoods:\n",
    "    borough = neighborhood_name = data['properties']['borough'] \n",
    "    neighborhood_name = data['properties']['name']\n",
    "        \n",
    "    neighborhood_latlon = data['geometry']['coordinates']\n",
    "    neighborhood_lat = neighborhood_latlon[1]\n",
    "    neighborhood_lon = neighborhood_latlon[0]\n",
    "    \n",
    "    ny_neighborhoods = ny_neighborhoods.append({'City': 'New York',\n",
    "                                          'Borough': borough,\n",
    "                                          'Neighborhood': neighborhood_name,\n",
    "                                          'Latitude': neighborhood_lat,\n",
    "                                          'Longitude': neighborhood_lon}, ignore_index=True)\n",
    "ny_neighborhoods.head()"
   ]
  },
  {
   "cell_type": "code",
   "execution_count": null,
   "metadata": {},
   "outputs": [],
   "source": [
    "#Define a function to plot the city map with different neighborhood labels based on Borough\n",
    "def citymap(cityname,countryname,dataframe):\n",
    "    # create map\n",
    "    address = cityname + ',' + countryname\n",
    "\n",
    "    geolocator = Nominatim(user_agent=\"my-application\")\n",
    "    location = geolocator.geocode(address)\n",
    "    latitude = location.latitude\n",
    "    longitude = location.longitude\n",
    "    my_map = folium.Map(location=[latitude, longitude], zoom_start=10)\n",
    "\n",
    "    # set color scheme for the Borough\n",
    "    borough_name = dataframe['Borough'].unique().tolist()\n",
    "    colnum = dataframe['Borough'].unique().size\n",
    "    x = np.arange(colnum)\n",
    "    ys = [i+x+(i*x)**2 for i in range(colnum)]\n",
    "    colors_array = cm.rainbow(np.linspace(0, 1, len(ys)))\n",
    "    rainbow = [colors.rgb2hex(i) for i in colors_array]\n",
    "\n",
    "    # add markers to the map\n",
    "\n",
    "    for lat, lon, neighborhood, borough in zip(dataframe['Latitude'], dataframe['Longitude'], dataframe['Neighborhood'], dataframe['Borough']):\n",
    "        cluster = borough_name.index(borough)\n",
    "        label = '{}, {}'.format(neighborhood, borough)\n",
    "        label = folium.Popup(label, parse_html=True)\n",
    "        folium.CircleMarker(\n",
    "            [lat, lon],\n",
    "            radius=5,\n",
    "            popup=label,\n",
    "            color=rainbow[cluster],\n",
    "            fill=True,\n",
    "            fill_color=rainbow[cluster],\n",
    "            fill_opacity=0.7).add_to(my_map)\n",
    "       \n",
    "    \n",
    "    return my_map"
   ]
  },
  {
   "cell_type": "code",
   "execution_count": null,
   "metadata": {},
   "outputs": [],
   "source": [
    "citymap('New York','USA',ny_neighborhoods)"
   ]
  },
  {
   "cell_type": "markdown",
   "metadata": {},
   "source": [
    "We see that all the neighorhoods in the same Borough fall into the same color and are well seprated in map, indicating good quality of data.\n",
    "---"
   ]
  },
  {
   "cell_type": "markdown",
   "metadata": {},
   "source": [
    "<H3>Lets look into the neighborhood of TORONTO</H3>"
   ]
  },
  {
   "cell_type": "code",
   "execution_count": null,
   "metadata": {},
   "outputs": [],
   "source": [
    "# obtain Toronto neighborhood data\n",
    "url = \"https://en.wikipedia.org/wiki/List_of_postal_codes_of_Canada:_M\"\n",
    "wikipage = requests.get(url)\n",
    "wikipage.text[:100]\n",
    "\n",
    "#Create a new pd DataFrame\n",
    "toronto = pd.DataFrame()\n",
    "\n",
    "#use beautifulsoup to read the wikipage\n",
    "soup = BeautifulSoup(wikipage.text, 'lxml')\n",
    "wikitable = soup.find_all('table')[0] \n",
    "\n",
    "row_marker = 0\n",
    "\n",
    "for row in wikitable.find_all('tr'):\n",
    "    column_marker = 0\n",
    "    columns = row.find_all('td')\n",
    "    for column in columns:\n",
    "        toronto.loc[row_marker,column_marker] = column.get_text()\n",
    "        column_marker += 1\n",
    "    row_marker += 1\n",
    "\n",
    "#rename column names\n",
    "toronto.rename(columns={0:'PostalCode',1:'Borough',2:'Neighborhood'}, inplace=True)\n",
    "#drop all rows with unassigned borough\n",
    "toronto = toronto[toronto.Borough!='Not assigned']\n",
    "toronto.reset_index(drop=True,inplace=True)\n",
    "\n",
    "#create a new dataframe toronto_neighbor to find all neighborhoods with the location information\n",
    "toronto_neighborhoods= pd.DataFrame(columns = ['City','Borough','Neighborhood'])\n",
    "\n",
    "for ii in range(toronto.shape[0]):\n",
    "    borough = toronto.loc[ii,'Borough']\n",
    "    postalcode = toronto.loc[ii,'PostalCode']\n",
    "    neighborhood = toronto.loc[ii,'Neighborhood'][:-1] #delete the last character \\n\n",
    "    \n",
    "    #if the neighborhood name is not assigned, than the neighorhood name is same as borough\n",
    "    if neighborhood == 'Not assigned':\n",
    "        neighborhood = borough\n",
    "    \n",
    "    #find the location data, ignore the neighborhoods that are unable to be located by Nominatim\n",
    "    geolocator = Nominatim(user_agent=\"mycapstoneproject\")\n",
    "    location = geolocator.geocode(\"{},{},Toronto,Ontario,Canada\".format(neighborhood,borough),timeout=15)\n",
    "    \n",
    "    #try one more searching\n",
    "    if location is None: \n",
    "        location = geolocator.geocode(\"{},Toronto,Ontario,Canada\".format(neighborhood),timeout=15)\n",
    "        \n",
    "    if location is None: \n",
    "        print(\"The location data of {} in {} is not available!\".format(neighborhood,borough))\n",
    "    else:\n",
    "        toronto_neighborhoods = toronto_neighborhoods.append({'City': 'Toronto',\n",
    "                                                'Borough': borough,\n",
    "                                                'Neighborhood': neighborhood,\n",
    "                                                'Latitude': location.latitude,\n",
    "                                                'Longitude': location.longitude\n",
    "                                               }, ignore_index=True)\n",
    "\n",
    "toronto_neighborhoods.head()"
   ]
  },
  {
   "cell_type": "code",
   "execution_count": null,
   "metadata": {},
   "outputs": [],
   "source": [
    "toronto_neighborhoods.shape"
   ]
  },
  {
   "cell_type": "code",
   "execution_count": null,
   "metadata": {},
   "outputs": [],
   "source": [
    "citymap('Toronto','Canada',toronto_neighborhoods)"
   ]
  },
  {
   "cell_type": "markdown",
   "metadata": {},
   "source": [
    "<H3>Let's look at Beijing and Shanghai</H3>"
   ]
  },
  {
   "cell_type": "code",
   "execution_count": null,
   "metadata": {},
   "outputs": [],
   "source": [
    "# read the csv file extracted from Wikipedia including the Districts and Subdisctricts\n",
    "beijing = pd.read_csv('Beijing.csv')\n",
    "beijing.rename(columns={'District':'Borough','Subdisctricts':'Neighborhood'}, inplace=True)\n",
    "beijing.head()"
   ]
  },
  {
   "cell_type": "code",
   "execution_count": null,
   "metadata": {},
   "outputs": [],
   "source": [
    "#create a new dataframe bj_neighbor to find all neighborhoods with the location information\n",
    "bj_neighborhoods= pd.DataFrame(columns = ['City','Borough','Neighborhood'])\n",
    "\n",
    "for ii in range(beijing.shape[0]):\n",
    "    borough = beijing.loc[ii,'Borough']\n",
    "    neighborhood = beijing.loc[ii,'Neighborhood']\n",
    "      \n",
    "    #find the location data, ignore the neighborhoods that are unable to be located by Nominatim\n",
    "    geolocator = Nominatim(user_agent=\"my-application\")\n",
    "    location = geolocator.geocode(\"{},{},Beijing,China\".format(neighborhood,borough),timeout=15)\n",
    "    \n",
    "    #try one more searching\n",
    "    if location is None: \n",
    "        location = geolocator.geocode(\"{},Beijing,China\".format(neighborhood),timeout=15)\n",
    "        \n",
    "    if location is None: \n",
    "        print(\"The location data of {} in {} is not available!\".format(neighborhood,borough))\n",
    "    else:\n",
    "        bj_neighborhoods = bj_neighborhoods.append({'City': 'Beijing',\n",
    "                                                'Borough': borough,\n",
    "                                                'Neighborhood': neighborhood,\n",
    "                                                'Latitude': location.latitude,\n",
    "                                                'Longitude': location.longitude\n",
    "                                               }, ignore_index=True)\n",
    "\n",
    "bj_neighborhoods.head()"
   ]
  },
  {
   "cell_type": "markdown",
   "metadata": {},
   "source": [
    "<b>A number of neighborhoods don't have location data. But anyway, there are more than 200 neighborhoods with valid location data, enough for my analysis. Show these neighborhoods on map:"
   ]
  },
  {
   "cell_type": "code",
   "execution_count": null,
   "metadata": {},
   "outputs": [],
   "source": [
    "bj_neighborhoods.shape"
   ]
  },
  {
   "cell_type": "code",
   "execution_count": null,
   "metadata": {},
   "outputs": [],
   "source": [
    "citymap('Beijing','China',bj_neighborhoods)"
   ]
  },
  {
   "cell_type": "markdown",
   "metadata": {},
   "source": [
    "<b>Some nerghborhoods doesn't lie into their boroughs (wrong location data). Let's clean it out."
   ]
  },
  {
   "cell_type": "code",
   "execution_count": null,
   "metadata": {},
   "outputs": [],
   "source": [
    "drop = ['Xiangyang','Shilipu','Jiuxian','Binhe','Xincun','Yongding','Shiyuan','Dayu','Shuguang','Guangning','Beiwu',\n",
    "       'Dongfeng','Guangming','Liucun','Nankou']\n",
    "\n",
    "for neighborhoods in drop:\n",
    "    bj_neighborhoods = bj_neighborhoods[bj_neighborhoods.Neighborhood != neighborhoods]\n",
    "    bj_neighborhoods.reset_index(drop=True,inplace=True)\n",
    "    \n",
    "bj_neighborhoods.head()"
   ]
  },
  {
   "cell_type": "code",
   "execution_count": null,
   "metadata": {},
   "outputs": [],
   "source": [
    "citymap('Beijing','China',bj_neighborhoods)"
   ]
  },
  {
   "cell_type": "markdown",
   "metadata": {},
   "source": [
    "<b>Repeat the same process for Shanghai"
   ]
  },
  {
   "cell_type": "code",
   "execution_count": null,
   "metadata": {},
   "outputs": [],
   "source": [
    "# read the csv file extracted from Wikipedia including the Districts and Subdisctricts\n",
    "sh = pd.read_csv('Shanghai.csv')\n",
    "sh.rename(columns={'District':'Borough','Subdistrict':'Neighborhood'}, inplace=True)\n",
    "sh.head()"
   ]
  },
  {
   "cell_type": "code",
   "execution_count": null,
   "metadata": {},
   "outputs": [],
   "source": [
    "#create a new dataframe sh_neighbor to find all neighborhoods with the location information\n",
    "sh_neighborhoods= pd.DataFrame(columns = ['City','Borough','Neighborhood'])\n",
    "\n",
    "for borough, neighborhood in zip(sh['Borough'],sh['Neighborhood']):   \n",
    "    #find the location data, ignore the neighborhoods that are unable to be located by Nominatim\n",
    "    geolocator = Nominatim(user_agent=\"my-application\")\n",
    "    location = geolocator.geocode(\"{},{},Shanghai,China\".format(neighborhood,borough),timeout=15)\n",
    "    \n",
    "    #try one more searching\n",
    "    if location is None: \n",
    "        location = geolocator.geocode(\"{},Shanghai,China\".format(neighborhood),timeout=15)\n",
    "        \n",
    "    if location is None: \n",
    "        print(\"The location data of {} in {} is not available!\".format(neighborhood,borough))\n",
    "    else:\n",
    "        sh_neighborhoods = sh_neighborhoods.append({'City': 'Shanghai',\n",
    "                                                'Borough': borough,\n",
    "                                                'Neighborhood': neighborhood,\n",
    "                                                'Latitude': location.latitude,\n",
    "                                                'Longitude': location.longitude\n",
    "                                               }, ignore_index=True)\n",
    "\n",
    "sh_neighborhoods.head()"
   ]
  },
  {
   "cell_type": "code",
   "execution_count": null,
   "metadata": {},
   "outputs": [],
   "source": [
    "\n",
    "citymap('Shanghai','China',sh_neighborhoods)"
   ]
  },
  {
   "cell_type": "code",
   "execution_count": null,
   "metadata": {},
   "outputs": [],
   "source": [
    "drop = ['Chenjia','Xinhe','Xincun','Zhongxing','Changzheng','Beizhan','Chaoyang Farm']\n",
    "\n",
    "for neighborhoods in drop:\n",
    "    sh_neighborhoods = sh_neighborhoods[sh_neighborhoods.Neighborhood != neighborhoods]\n",
    "    sh_neighborhoods.reset_index(drop=True,inplace=True)\n",
    "    \n",
    "citymap('Shanghai','China',sh_neighborhoods)"
   ]
  },
  {
   "cell_type": "code",
   "execution_count": null,
   "metadata": {},
   "outputs": [],
   "source": [
    "# save the data\n",
    "ny_neighborhoods.to_csv('ny_neighbor.csv', sep='\\t')\n",
    "toronto_neighborhoods.to_csv('toronto_neighbor.csv', sep='\\t')\n",
    "bj_neighborhoods.to_csv('bj_neighbor.csv', sep='\\t')\n",
    "sh_neighborhoods.to_csv('sh_neighbor.csv', sep='\\t')"
   ]
  },
  {
   "cell_type": "code",
   "execution_count": null,
   "metadata": {},
   "outputs": [],
   "source": [
    "#Use Foursquare to expore the neighborhoods\n",
    "#My Foursquare Credentials \n",
    "CLIENT_ID = 'HCGMALYUZ3TSKR1Z4YRDUOWVHYG1ZKCID4UX2WOJEQ4TT1TB' \n",
    "CLIENT_SECRET = 'JZY3DDCWDRJSV1VCM4W4WBLB2THSLPB04ENZ2XQMC4KQAYQZ' \n",
    "VERSION = '20200229' # Foursquare API version\n",
    "LIMIT = 50 # only return the top 50 venues\n",
    "\n",
    "# define a function to expore each city in radius of 1000 meters\n",
    "def getNearbyVenues(nborhood, radius=1000):\n",
    "    \n",
    "    venues=pd.DataFrame(columns=['City','Borough','Neighborhood','VenueName','VenueCategory'])\n",
    "    for city, borough, neighborhood, lat, lng in zip(nborhood['City'], nborhood['Borough'], nborhood['Neighborhood'], nborhood['Latitude'], nborhood['Longitude']):\n",
    "        # create the API request URL\n",
    "        url = 'https://api.foursquare.com/v2/venues/explore?&client_id={}&client_secret={}&v={}&ll={},{}&radius={}&limit={}'.format(\n",
    "            CLIENT_ID, \n",
    "            CLIENT_SECRET, \n",
    "            VERSION, \n",
    "            lat, \n",
    "            lng, \n",
    "            radius, \n",
    "            LIMIT)\n",
    "        \n",
    "        # make the GET request\n",
    "        results = requests.get(url).json()['response']['groups'][0]['items']\n",
    "        \n",
    "        # return only relevant information for each nearby venue\n",
    "        if results is not None:\n",
    "            for v in results:\n",
    "                venues = venues.append({'City':city, 'Borough':borough, 'Neighborhood': neighborhood, \n",
    "                           'VenueName': v['venue']['name'], \n",
    "                           'VenueCategory': v['venue']['categories'][0]['name']},ignore_index=True)\n",
    "\n",
    "   \n",
    "    \n",
    "    return(venues)"
   ]
  },
  {
   "cell_type": "code",
   "execution_count": null,
   "metadata": {},
   "outputs": [],
   "source": [
    "# obtain the nearby venues of each neighborhood in New York\n",
    "ny_venues = getNearbyVenues(ny_neighborhoods)\n",
    "ny_venues.head()"
   ]
  },
  {
   "cell_type": "code",
   "execution_count": null,
   "metadata": {},
   "outputs": [],
   "source": [
    "#save the data\n",
    "ny_venues.to_csv('ny_venues.csv', sep='\\t')\n",
    "ny_venues.shape"
   ]
  },
  {
   "cell_type": "code",
   "execution_count": null,
   "metadata": {},
   "outputs": [],
   "source": [
    "#  to avoid multi-index problem\n",
    "ny_venues = ny_venues.rename(columns={'Neighborhood': 'NeighborhoodName'})"
   ]
  },
  {
   "cell_type": "markdown",
   "metadata": {},
   "source": [
    "<H3> Let's repeat the process for Toronto, Beijing and Shanghai.</H3><br>\n",
    "<H3>Toronto</H3>"
   ]
  },
  {
   "cell_type": "code",
   "execution_count": null,
   "metadata": {},
   "outputs": [],
   "source": [
    "# repeat on Toronto\n",
    "toronto_venues = getNearbyVenues(toronto_neighborhoods)\n",
    "toronto_venues.head()"
   ]
  },
  {
   "cell_type": "code",
   "execution_count": null,
   "metadata": {},
   "outputs": [],
   "source": [
    "#save the data\n",
    "toronto_venues.to_csv('toronto_venues.csv', sep='\\t')\n",
    "\n",
    "#  to avoid multi-index problem\n",
    "toronto_venues = toronto_venues.rename(columns={'Neighborhood': 'NeighborhoodName'})\n",
    "toronto_venues.shape"
   ]
  },
  {
   "cell_type": "markdown",
   "metadata": {},
   "source": [
    "<H3>Beijing</H3>"
   ]
  },
  {
   "cell_type": "code",
   "execution_count": null,
   "metadata": {},
   "outputs": [],
   "source": [
    "# repeat on Beijing\n",
    "bj_venues = getNearbyVenues(bj_neighborhoods)\n",
    "bj_venues.head()"
   ]
  },
  {
   "cell_type": "code",
   "execution_count": null,
   "metadata": {},
   "outputs": [],
   "source": [
    "#save the data\n",
    "bj_venues.to_csv('bj_venues.csv', sep='\\t')\n",
    "\n",
    "#  to avoid multi-index problem\n",
    "bj_venues = bj_venues.rename(columns={'Neighborhood': 'NeighborhoodName'})\n",
    "bj_venues.shape"
   ]
  },
  {
   "cell_type": "markdown",
   "metadata": {},
   "source": [
    "<H3>Shanghai</H3>"
   ]
  },
  {
   "cell_type": "code",
   "execution_count": null,
   "metadata": {},
   "outputs": [],
   "source": [
    "# repeat on Beijing\n",
    "sh_venues = getNearbyVenues(sh_neighborhoods)\n",
    "sh_venues.head()"
   ]
  },
  {
   "cell_type": "code",
   "execution_count": null,
   "metadata": {},
   "outputs": [],
   "source": [
    "#save the data\n",
    "sh_venues.to_csv('sh_venues.csv', sep='\\t')\n",
    "\n",
    "#  to avoid multi-index problem\n",
    "sh_venues = sh_venues.rename(columns={'Neighborhood': 'NeighborhoodName'})\n",
    "sh_venues.shape"
   ]
  },
  {
   "cell_type": "markdown",
   "metadata": {},
   "source": [
    "<H3>Now let's combine all the data into single dataframe and use machine learning model for clustering.</H3>"
   ]
  },
  {
   "cell_type": "code",
   "execution_count": null,
   "metadata": {},
   "outputs": [],
   "source": [
    "#combine venues \n",
    "allvenues =  pd.concat([ny_venues,toronto_venues,bj_venues,sh_venues])\n",
    "allvenues = allvenues.rename(columns={'Neighborhood': 'NeighborhoodName'})\n",
    "allvenues.shape"
   ]
  },
  {
   "cell_type": "code",
   "execution_count": null,
   "metadata": {},
   "outputs": [],
   "source": [
    "allvenues.head()"
   ]
  },
  {
   "cell_type": "code",
   "execution_count": null,
   "metadata": {},
   "outputs": [],
   "source": [
    "#combine neighborhoods\n",
    "allneighborhoods =  pd.concat([ny_neighborhoods,toronto_neighborhoods,bj_neighborhoods,sh_neighborhoods])\n",
    "allneighborhoods = allneighborhoods.rename(columns={'Neighborhood': 'NeighborhoodName'})\n",
    "allneighborhoods.shape"
   ]
  },
  {
   "cell_type": "code",
   "execution_count": null,
   "metadata": {},
   "outputs": [],
   "source": [
    "allneighborhoods.head()"
   ]
  },
  {
   "cell_type": "markdown",
   "metadata": {},
   "source": [
    "<H3>Group the venues depends on their categories and calculate the total number of venues of each category.</H3>"
   ]
  },
  {
   "cell_type": "code",
   "execution_count": null,
   "metadata": {},
   "outputs": [],
   "source": [
    "# get dummies\n",
    "allvenues_onehot = pd.get_dummies(allvenues, columns = ['VenueCategory'], prefix=\"\", prefix_sep=\"\")\n",
    "allvenues_onehot = allvenues_onehot.drop('VenueName',axis = 1)\n",
    "#allvenues_onehot.columns.values"
   ]
  },
  {
   "cell_type": "markdown",
   "metadata": {},
   "source": [
    "<H3>We need to clean the colums. For example, 'Art Gallery', 'Art Museum', 'Arts & Crafts Store', and 'Arts & Entertainment' are basically in the same category. And 'Yunnan Resaurant', 'Zhejiang Resaurant','Hainan Resaurant' are all in the category of 'Chinese Resaurent'.</H3>"
   ]
  },
  {
   "cell_type": "code",
   "execution_count": null,
   "metadata": {},
   "outputs": [],
   "source": [
    "def clean_columns(columns,newcolumnname,dataframe):\n",
    "    value = 0\n",
    "    for column in columns:\n",
    "        value = dataframe[column] + value\n",
    "    \n",
    "    dataframe = dataframe.drop(columns,axis = 1)\n",
    "    dataframe[newcolumnname] = value\n",
    "    \n",
    "    return dataframe\n",
    "\n",
    "columns = ['Art Gallery', 'Art Museum', 'Arts & Crafts Store','Arts & Entertainment','Museum','Street Art','Public Art']\n",
    "newcolumnname = 'Art Museum'\n",
    "allvenues_onehot = clean_columns(columns,newcolumnname,allvenues_onehot)\n",
    "\n",
    "columns = ['Auto Dealership', 'Auto Garage', 'Auto Workshop','Automotive Shop']\n",
    "newcolumnname = 'Auto Shop'\n",
    "allvenues_onehot = clean_columns(columns,newcolumnname,allvenues_onehot)\n",
    "\n",
    "columns = ['Baseball Field','Baseball Stadium']\n",
    "newcolumnname = 'Baseball Field'\n",
    "allvenues_onehot = clean_columns(columns,newcolumnname,allvenues_onehot)\n",
    "\n",
    "columns = ['Basketball Court', 'Basketball Stadium']\n",
    "newcolumnname = 'Basketball Stadium'\n",
    "allvenues_onehot = clean_columns(columns,newcolumnname,allvenues_onehot)\n",
    "\n",
    "columns = ['Tennis Court', 'Tennis Stadium']\n",
    "newcolumnname = 'Tennis Court'\n",
    "allvenues_onehot = clean_columns(columns,newcolumnname,allvenues_onehot)\n",
    "\n",
    "columns = ['Soccer Field', 'Soccer Stadium','Stadium']\n",
    "newcolumnname = 'Stadium'\n",
    "allvenues_onehot = clean_columns(columns,newcolumnname,allvenues_onehot)\n",
    "\n",
    "columns = ['Bar','Beer Bar','Beer Garden', 'Beer Store','Cocktail Bar','Whisky Bar', 'Wine Bar','Sake Bar','Hotel Bar']\n",
    "newcolumnname = 'Bar'\n",
    "allvenues_onehot = clean_columns(columns,newcolumnname,allvenues_onehot)\n",
    "\n",
    "columns = ['Wine Shop','Liquor Store']\n",
    "newcolumnname = 'Liquor'\n",
    "allvenues_onehot = clean_columns(columns,newcolumnname,allvenues_onehot)\n",
    "\n",
    "columns = ['Bus Line', 'Bus Station','Bus Stop']\n",
    "newcolumnname = 'Bus Statiion'\n",
    "allvenues_onehot = clean_columns(columns,newcolumnname,allvenues_onehot)\n",
    "\n",
    "columns = ['Cafeteria', 'Café','Coffee Shop','Gaming Cafe']\n",
    "newcolumnname = 'Cafeteria'\n",
    "allvenues_onehot = clean_columns(columns,newcolumnname,allvenues_onehot)\n",
    "\n",
    "columns = ['Food', 'Food & Drink Shop',\n",
    "       'Food Court', 'Food Service', 'Food Truck', 'Street Food Gathering']\n",
    "newcolumnname = 'Street Food'\n",
    "allvenues_onehot = clean_columns(columns,newcolumnname,allvenues_onehot)\n",
    "  \n",
    "columns = ['Shopping Mall', 'Shopping Plaza']\n",
    "newcolumnname = 'Shopping Mall'\n",
    "allvenues_onehot = clean_columns(columns,newcolumnname,allvenues_onehot)\n",
    "\n",
    "columns = ['Drugstore','Pharmacy']\n",
    "newcolumnname = 'Pharmacy'\n",
    "allvenues_onehot = clean_columns(columns,newcolumnname,allvenues_onehot)\n",
    "\n",
    "columns = ['Sporting Goods Shop', 'Sports Bar', 'Sports Club']\n",
    "newcolumnname = 'Sports'\n",
    "allvenues_onehot = clean_columns(columns,newcolumnname,allvenues_onehot)\n",
    "\n",
    "columns = ['Gym','Gym / Fitness Center', 'Gym Pool', 'Gymnastics Gym']\n",
    "newcolumnname = 'Gym'\n",
    "allvenues_onehot = clean_columns(columns,newcolumnname,allvenues_onehot)\n",
    "\n",
    "columns = ['Hostel','Hotel','Motel']\n",
    "newcolumnname = 'Hotel'\n",
    "allvenues_onehot = clean_columns(columns,newcolumnname,allvenues_onehot)\n",
    "\n",
    "columns = ['Japanese Curry Restaurant', 'Japanese Restaurant','Ramen Restaurant','Udon Restaurant','Soba Restaurant','Sushi Restaurant']\n",
    "newcolumnname = 'Japanese Restaurant'\n",
    "allvenues_onehot = clean_columns(columns,newcolumnname,allvenues_onehot)\n",
    "\n",
    "columns = ['Metro Station','Light Rail Station','Tram Station']\n",
    "newcolumnname = 'Metro Station'\n",
    "allvenues_onehot = clean_columns(columns,newcolumnname,allvenues_onehot)\n",
    "\n",
    "columns = ['Pet Café', 'Pet Service', 'Pet Store','Animal Shelter']\n",
    "newcolumnname = 'Pet Service'\n",
    "allvenues_onehot = clean_columns(columns,newcolumnname,allvenues_onehot)\n",
    "\n",
    "columns = ['Chinese Breakfast Place', 'Chinese Restaurant','Hotpot Restaurant', \n",
    "           'Hubei Restaurant','Hunan Restaurant','Tibetan Restaurant','Anhui Restaurant','Cantonese Restaurant',\n",
    "           'Dongbei Restaurant','Dim Sum Restaurant','Dumpling Restaurant','Szechuan Restaurant','Taiwanese Restaurant',\n",
    "          'Fujian Restaurant','Xinjiang Restaurant','Yunnan Restaurant', 'Zhejiang Restaurant','Shanghai Restaurant',\n",
    "          'Shanxi Restaurant','Shaanxi Restaurant','Guizhou Restaurant','Peking Duck Restaurant','Guizhou Restaurant',\n",
    "          'Hainan Restaurant','Hong Kong Restaurant','Jiangsu Restaurant']\n",
    "newcolumnname = 'Chinese Restaurant'\n",
    "allvenues_onehot = clean_columns(columns,newcolumnname,allvenues_onehot)\n",
    " \n",
    "#allvenues_onehot.columns.values"
   ]
  },
  {
   "cell_type": "code",
   "execution_count": null,
   "metadata": {},
   "outputs": [],
   "source": [
    "#group the venues based on Neighborhoods\n",
    "allvenues_grouped = allvenues_onehot.groupby('NeighborhoodName',axis = 0).sum().reset_index()\n",
    "allvenues_grouped = allneighborhoods.join(allvenues_grouped.set_index('NeighborhoodName'), on='NeighborhoodName')\n",
    "\n",
    "#drop the rows with NaN (no venues information)\n",
    "allvenues_grouped.dropna(inplace=True)\n",
    "allvenues_grouped.head()"
   ]
  },
  {
   "cell_type": "code",
   "execution_count": null,
   "metadata": {},
   "outputs": [],
   "source": [
    "# create a new dataframe with most common venue catrgories\n",
    "def return_most_common_venues(row, num_top_venues):\n",
    "    row_categories = row\n",
    "    row_categories_sorted = row_categories.sort_values(ascending=False)\n",
    "    \n",
    "    return row_categories_sorted.index.values[0:num_top_venues]\n",
    "\n",
    "num_top_venues = 10\n",
    "\n",
    "columns = ['City','Borough','NeighborhoodName','Latitude','Longitude','Total Number of Venues']\n",
    "indicators = ['st', 'nd', 'rd']\n",
    "# create columns according to number of top venues\n",
    "\n",
    "for ind in np.arange(num_top_venues):\n",
    "    try:\n",
    "        columns.append('{}{} Most Common Venue'.format(ind+1, indicators[ind]))\n",
    "    except:\n",
    "        columns.append('{}th Most Common Venue'.format(ind+1))\n",
    "\n",
    "# create a new dataframe\n",
    "allvenues_sorted = pd.DataFrame(columns = columns)\n",
    "#allvenues_sorted = allvenues_grouped[['City','Borough','NeighborhoodName']]\n",
    "\n",
    "for ind in range(allvenues_grouped.shape[0]):\n",
    "    allvenues_sorted.loc[ind, 'City'] = allvenues_grouped.iloc[ind].City\n",
    "    allvenues_sorted.loc[ind, 'Borough'] = allvenues_grouped.iloc[ind].Borough\n",
    "    allvenues_sorted.loc[ind, 'NeighborhoodName'] = allvenues_grouped.iloc[ind].NeighborhoodName\n",
    "    allvenues_sorted.loc[ind, 'Latitude'] = allvenues_grouped.iloc[ind].Latitude\n",
    "    allvenues_sorted.loc[ind, 'Longitude'] = allvenues_grouped.iloc[ind].Longitude\n",
    "    allvenues_sorted.loc[ind, 'Total Number of Venues'] = allvenues_grouped.iloc[ind,5:].sum()\n",
    "    allvenues_sorted.iloc[ind, 6:] = return_most_common_venues(allvenues_grouped.iloc[ind, 5:], num_top_venues)\n",
    "\n",
    "allvenues_sorted.head()"
   ]
  },
  {
   "cell_type": "markdown",
   "metadata": {},
   "source": [
    "<H3>Use hierarchical agglomerative clustering method to compare neighborhoods among cities.<br>\n",
    "First, find the number of clusters. Let's use scipy library to create the dendrograms for our dataset.</H3>"
   ]
  },
  {
   "cell_type": "code",
   "execution_count": null,
   "metadata": {},
   "outputs": [],
   "source": [
    "import scipy.cluster.hierarchy as shc\n",
    "\n",
    "data = allvenues_grouped.iloc[:,6:]\n",
    "plt.figure(figsize=(10, 7))   \n",
    "plt.title('Hierarchical Clustering Dendrogram')\n",
    "plt.xlabel('Neighborhoods')\n",
    "plt.ylabel('Distance')\n",
    "plt.axhline(y=31, c='k')\n",
    "dend = shc.dendrogram(shc.linkage(data, method='ward'))"
   ]
  },
  {
   "cell_type": "markdown",
   "metadata": {},
   "source": [
    "<H3>According to the above graph, I decide to separate our neighborhoods into nine clusters (cut at distance of 31, horizontal black line). I will use the hierarchical agglomerative clustering of the sklearn.cluster library to cluster these neighborhoods.</H3>"
   ]
  },
  {
   "cell_type": "code",
   "execution_count": null,
   "metadata": {},
   "outputs": [],
   "source": [
    "from sklearn.cluster import AgglomerativeClustering\n",
    "\n",
    "cluster = AgglomerativeClustering(n_clusters=9, affinity='euclidean', linkage='ward')  \n",
    "clusterresult = cluster.fit_predict(data)"
   ]
  },
  {
   "cell_type": "code",
   "execution_count": null,
   "metadata": {},
   "outputs": [],
   "source": [
    "allvenues_sorted['Cluster_Labels'] = clusterresult"
   ]
  },
  {
   "cell_type": "code",
   "execution_count": null,
   "metadata": {},
   "outputs": [],
   "source": [
    "# Define a function to show the neighborhoods with same cluster labels\n",
    "def clustermap(cityname,countryname,dataframe):\n",
    "    # create map\n",
    "    address = cityname + ',' + countryname\n",
    "\n",
    "    geolocator = Nominatim(user_agent=\"my-application\")\n",
    "    location = geolocator.geocode(address)\n",
    "    latitude = location.latitude\n",
    "    longitude = location.longitude\n",
    "    my_map = folium.Map(location=[latitude, longitude], zoom_start=10)\n",
    "\n",
    "    # set color scheme for the Cluster_Labels\n",
    "    colnum = 9\n",
    "    x = np.arange(colnum)\n",
    "    ys = [i+x+(i*x)**2 for i in range(colnum)]\n",
    "    colors_array = cm.rainbow(np.linspace(0, 1, len(ys)))\n",
    "    rainbow = [colors.rgb2hex(i) for i in colors_array]\n",
    "\n",
    "    # add markers to the map\n",
    "\n",
    "    for lat, lon, neighborhood, borough, cluster_labels in zip(dataframe['Latitude'], \n",
    "                                                               dataframe['Longitude'], \n",
    "                                                               dataframe['NeighborhoodName'], \n",
    "                                                               dataframe['Borough'],\n",
    "                                                               dataframe['Cluster_Labels']):\n",
    "        cluster = cluster_labels \n",
    "        label = '{}, {},Cluster:{}'.format(neighborhood, borough,cluster_labels)\n",
    "        label = folium.Popup(label, parse_html=True)\n",
    "        folium.CircleMarker(\n",
    "            [lat, lon],\n",
    "            radius=5,\n",
    "            popup=label,\n",
    "            color=rainbow[cluster],\n",
    "            fill=True,\n",
    "            fill_color=rainbow[cluster],\n",
    "            fill_opacity=0.7).add_to(my_map)\n",
    "       \n",
    "    \n",
    "    return my_map"
   ]
  },
  {
   "cell_type": "markdown",
   "metadata": {},
   "source": [
    "<H3>Total number of neighborhoods in each cluster</H3>"
   ]
  },
  {
   "cell_type": "code",
   "execution_count": null,
   "metadata": {},
   "outputs": [],
   "source": [
    "for ii in range(9):\n",
    "    num = allvenues_sorted[allvenues_sorted['Cluster_Labels'] == ii].shape[0]\n",
    "    print('Total number of neighborhoods in cluster {} is {}'.format(ii, num))"
   ]
  },
  {
   "cell_type": "markdown",
   "metadata": {},
   "source": [
    "<H3>Cluster 5 only has 3 neighborhoods and cluster 7 has only 2. These two clusters probably just contain the outliers. So let's look at cluster 5 and 7 first</H3>"
   ]
  },
  {
   "cell_type": "code",
   "execution_count": null,
   "metadata": {},
   "outputs": [],
   "source": [
    "# cluster 5\n",
    "allvenues_sorted[allvenues_sorted['Cluster_Labels'] == 5]"
   ]
  },
  {
   "cell_type": "code",
   "execution_count": null,
   "metadata": {},
   "outputs": [],
   "source": [
    "# cluster 7\n",
    "allvenues_sorted[allvenues_sorted['Cluster_Labels'] == 7]"
   ]
  },
  {
   "cell_type": "markdown",
   "metadata": {},
   "source": [
    "<H3>\n",
    "Cluster 5 is the historical area of Beijing, thus no similar area is found in other cities. Cluster 7 is the same neighborhood throughout two boroughs, which is also unique in New York. <br><br>\n",
    "Let's look at other neighborhood clusters. <br><br>\n",
    "Cluster 0</H3>"
   ]
  },
  {
   "cell_type": "code",
   "execution_count": null,
   "metadata": {},
   "outputs": [],
   "source": [
    "cluster0 = allvenues_sorted[allvenues_sorted['Cluster_Labels'] == 0]\n",
    "cluster0"
   ]
  },
  {
   "cell_type": "markdown",
   "metadata": {},
   "source": [
    "<H3>Cluster 0 contains the neighborhoods in New York with a lot of nearby pizza places, fast food restaurants and Caribbean restaurants.</H3>"
   ]
  },
  {
   "cell_type": "code",
   "execution_count": null,
   "metadata": {},
   "outputs": [],
   "source": [
    "clustermap('New York','USA',cluster0)"
   ]
  },
  {
   "cell_type": "code",
   "execution_count": null,
   "metadata": {},
   "outputs": [],
   "source": [
    "#Cluster 1\n",
    "cluster1 = allvenues_sorted[allvenues_sorted['Cluster_Labels'] == 1]\n",
    "cluster1"
   ]
  },
  {
   "cell_type": "code",
   "execution_count": null,
   "metadata": {},
   "outputs": [],
   "source": [
    "clustermap('New York','USA',cluster1[cluster1['City'] == 'New York'])"
   ]
  },
  {
   "cell_type": "code",
   "execution_count": null,
   "metadata": {},
   "outputs": [],
   "source": [
    "clustermap('Toronto','Canada',cluster1[cluster1['City'] == 'Toronto'])"
   ]
  },
  {
   "cell_type": "code",
   "execution_count": null,
   "metadata": {},
   "outputs": [],
   "source": [
    "clustermap('Shanghai','China',cluster1[cluster1['City'] == 'Shanghai'])"
   ]
  },
  {
   "cell_type": "code",
   "execution_count": null,
   "metadata": {},
   "outputs": [],
   "source": [
    "clustermap('Beijing','China',cluster1[cluster1['City'] == 'Beijing'])"
   ]
  },
  {
   "cell_type": "markdown",
   "metadata": {},
   "source": [
    "<H3>Cluster 1 is basically the residential area of each city. Each neighborhood has access to fast food restaurants and outdoor parks. There are also a lot of resaurants, convenience stores and supermarkets.</H3>"
   ]
  },
  {
   "cell_type": "code",
   "execution_count": null,
   "metadata": {},
   "outputs": [],
   "source": [
    "#Cluster 2\n",
    "\n",
    "cluster2 = allvenues_sorted[allvenues_sorted['Cluster_Labels'] == 2]\n",
    "cluster2"
   ]
  },
  {
   "cell_type": "code",
   "execution_count": null,
   "metadata": {},
   "outputs": [],
   "source": [
    "clustermap('New York','USA',cluster2[cluster2['City'] == 'New York'])"
   ]
  },
  {
   "cell_type": "code",
   "execution_count": null,
   "metadata": {},
   "outputs": [],
   "source": [
    "clustermap('Toronto','Canada',cluster2[cluster2['City'] == 'Toronto'])"
   ]
  },
  {
   "cell_type": "markdown",
   "metadata": {},
   "source": [
    "<H3>Cluster 2: New York and Toronto neighborhoods with pizza places, banks, mobile phone shops nearby.</H3>"
   ]
  },
  {
   "cell_type": "code",
   "execution_count": null,
   "metadata": {},
   "outputs": [],
   "source": [
    "#Cluster 3\n",
    "cluster3 = allvenues_sorted[allvenues_sorted['Cluster_Labels'] == 3]\n",
    "cluster3"
   ]
  },
  {
   "cell_type": "code",
   "execution_count": null,
   "metadata": {},
   "outputs": [],
   "source": [
    "clustermap('New York','USA',cluster3[cluster3['City'] == 'New York'])"
   ]
  },
  {
   "cell_type": "code",
   "execution_count": null,
   "metadata": {},
   "outputs": [],
   "source": [
    "clustermap('Toronto','Canada',cluster3[cluster3['City'] == 'Toronto'])"
   ]
  },
  {
   "cell_type": "markdown",
   "metadata": {},
   "source": [
    "<H3>Cluster 3: Most are New York neighborhoods with a lot of Italian and pizza places.</H3>"
   ]
  },
  {
   "cell_type": "code",
   "execution_count": null,
   "metadata": {},
   "outputs": [],
   "source": [
    "## cluster 4\n",
    "cluster4 = allvenues_sorted[allvenues_sorted['Cluster_Labels'] == 4]\n",
    "cluster4"
   ]
  },
  {
   "cell_type": "code",
   "execution_count": null,
   "metadata": {},
   "outputs": [],
   "source": [
    "clustermap('New York','USA',cluster4[cluster4['City'] == 'New York'])"
   ]
  },
  {
   "cell_type": "code",
   "execution_count": null,
   "metadata": {},
   "outputs": [],
   "source": [
    "clustermap('Toronto','Canada',cluster4[cluster4['City'] == 'Toronto'])"
   ]
  },
  {
   "cell_type": "markdown",
   "metadata": {},
   "source": [
    "<H3>Cluster 4 includes the neighborhoods in New York and Toronto. These neighborhoods have a lot of dining place with Mexican and American cuisine.</H3>"
   ]
  },
  {
   "cell_type": "code",
   "execution_count": null,
   "metadata": {},
   "outputs": [],
   "source": [
    "## cluster 6\n",
    "cluster6 = allvenues_sorted[allvenues_sorted['Cluster_Labels'] == 6]\n",
    "cluster6"
   ]
  },
  {
   "cell_type": "code",
   "execution_count": null,
   "metadata": {},
   "outputs": [],
   "source": [
    "clustermap('New York','USA',cluster6[cluster6['City'] == 'New York'])"
   ]
  },
  {
   "cell_type": "code",
   "execution_count": null,
   "metadata": {},
   "outputs": [],
   "source": [
    "clustermap('Toronto','Canada',cluster6[cluster6['City'] == 'Toronto'])"
   ]
  },
  {
   "cell_type": "code",
   "execution_count": null,
   "metadata": {},
   "outputs": [],
   "source": [
    "clustermap('Beijing','China',cluster6[cluster6['City'] == 'Beijing'])"
   ]
  },
  {
   "cell_type": "code",
   "execution_count": null,
   "metadata": {},
   "outputs": [],
   "source": [
    "clustermap('Shanghai','China',cluster6[cluster6['City'] == 'Shanghai'])"
   ]
  },
  {
   "cell_type": "markdown",
   "metadata": {},
   "source": [
    "<H3>Cluster 6 is basically the city center where surrounded by a variety of venues, including theaters, parks, restaurants and bars.</H3>\n",
    "\n",
    "---"
   ]
  },
  {
   "cell_type": "code",
   "execution_count": null,
   "metadata": {},
   "outputs": [],
   "source": [
    "## cluster 8\n",
    "cluster8 = allvenues_sorted[allvenues_sorted['Cluster_Labels'] == 8]\n",
    "cluster8"
   ]
  },
  {
   "cell_type": "code",
   "execution_count": null,
   "metadata": {},
   "outputs": [],
   "source": [
    "clustermap('New York','USA',cluster8[cluster8['City'] == 'New York'])"
   ]
  },
  {
   "cell_type": "code",
   "execution_count": null,
   "metadata": {},
   "outputs": [],
   "source": [
    "clustermap('Toronto','Canada',cluster8[cluster8['City'] == 'Toronto'])"
   ]
  },
  {
   "cell_type": "code",
   "execution_count": null,
   "metadata": {},
   "outputs": [],
   "source": [
    "clustermap('Beijing','China',cluster8[cluster8['City'] == 'Beijing'])"
   ]
  },
  {
   "cell_type": "code",
   "execution_count": null,
   "metadata": {},
   "outputs": [],
   "source": [
    "clustermap('Shanghai','China',cluster8[cluster8['City'] == 'Shanghai'])"
   ]
  },
  {
   "cell_type": "markdown",
   "metadata": {},
   "source": [
    "<H2>Cluster 8 contains the neighborhoods without much nearby venues, including the suburb of New York, Toronto and most parts of Beijing and Shanghai. Please note that it doesn't mean Beijing and Shanghai are less bustling. In fact, Beijing and Shanghai have even larger density of population. I think this is because the venue information provider Foursquare is located in USA, thus New York and Toronto has much more information than Beijing and Shanghai. Some venue providers located in China may help to have a more detailed analysis.<br><br>\n",
    "Anyhow, I hope I convince you that despite the distinct cultural and geographical location differences of New York, Toronto, Beijing and Shanghai, there are several similar neighborhoods in cluster 1, 2, 3, 4 and 6. I hope this could provide some useful information for peple who are considering moving among Canada, USA and China.<br><br>\n",
    "Thank you for reading!</H2>\n",
    "\n",
    "---"
   ]
  }
 ],
 "metadata": {
  "kernelspec": {
   "display_name": "Python 3",
   "language": "python",
   "name": "python3"
  },
  "language_info": {
   "codemirror_mode": {
    "name": "ipython",
    "version": 3
   },
   "file_extension": ".py",
   "mimetype": "text/x-python",
   "name": "python",
   "nbconvert_exporter": "python",
   "pygments_lexer": "ipython3",
   "version": "3.7.5"
  }
 },
 "nbformat": 4,
 "nbformat_minor": 4
}
