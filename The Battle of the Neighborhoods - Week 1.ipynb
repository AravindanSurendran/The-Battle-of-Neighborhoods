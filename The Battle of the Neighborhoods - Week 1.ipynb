{
 "cells": [
  {
   "attachments": {},
   "cell_type": "markdown",
   "metadata": {},
   "source": [
    "---\n",
    "<H1>The Battle of the Neighborhoods - Week 1</H1>\n",
    "\n",
    "---"
   ]
  },
  {
   "attachments": {},
   "cell_type": "markdown",
   "metadata": {},
   "source": [
    "<H2>Introduction & Business Problem:</H2>"
   ]
  },
  {
   "attachments": {},
   "cell_type": "markdown",
   "metadata": {},
   "source": [
    "<H3> Problem Background:</H3>"
   ]
  },
  {
   "cell_type": "markdown",
   "metadata": {},
   "source": [
    "<p>Human migration is the movement by the people from one place to another with the intentions of settling permanently or temporarily in a new location. Early human migrants are usually result of climate change. Though the climate change is no longer an issue in modern societies, there are still a number of causes impel migrants to move to another country. Migration occurs for many reasons. The overwhelming majority of people migrate internationally for reasons related to work, family and study – involving migration processes that largely occur without fundamentally challenging either migrants or the countries they enter. Globalization is one of the main reasons people move to new places for better job opportunities.</p>"
   ]
  },
  {
   "attachments": {},
   "cell_type": "markdown",
   "metadata": {},
   "source": [
    "<H3> Problem Description:</H3>"
   ]
  },
  {
   "attachments": {},
   "cell_type": "markdown",
   "metadata": {},
   "source": [
    "<p>Migration is a huge event for most migrants. In addition to searching for new accommodation and new job, migrants also need to overcome culture shocks during settle down. In order to have a smooth transfer in the new city, it is very desirable to move to a similar neighborhood as where migrants live before. For example, a movie lover who usually watches a movie in theatre every Saturday will prefer a place with a theatre nearby. I would like to use the Foursquare location data to analyze the neighborhoods of four different cities Shanghai, Beijing, Toronto and New York. These cities are the economic or political center of the countries. I wish to find similar neighborhoods among these cities and provide some useful information for people who are considering moving among Canada, China and USA.</p>"
   ]
  },
  {
   "cell_type": "markdown",
   "metadata": {},
   "source": [
    "---"
   ]
  },
  {
   "attachments": {},
   "cell_type": "markdown",
   "metadata": {},
   "source": [
    "<H2>Data Description:</H2>"
   ]
  },
  {
   "attachments": {},
   "cell_type": "markdown",
   "metadata": {},
   "source": [
    "<p>For this problem, we will get the services of Foursquare API to explore the data of the four cities, in terms of their neighborhoods. The data also include the information about the places around each neighborhood like restaurants, hotels, coffee shops, parks, theaters, art galleries, museums and many more. We selected one Borough from each city to analyze their neighborhoods. We will use machine learning technique, “Clustering” to segment the neighborhoods with similar objects on the basis of each neighborhood data. These objects will be given priority on the basis of foot traffic (activity) in their respective neighborhoods. This will help to locate the tourist’s areas and hubs, and then we can judge the similarity or dissimilarity between two cities on that basis.\n",
    "\n",
    "<br><br><br>New York data: <a href=https://geo.nyu.edu/catalog/nyu_2451_34572> https://geo.nyu.edu/catalog/nyu_2451_34572 </a><br>\n",
    "Toronto data: <a href=https://en.wikipedia.org/wiki/List_of_postal_codes_of_Canada:_M>https://en.wikipedia.org/wiki/List_of_postal_codes_of_Canada:_M</a><br>\n",
    "Beijing data: <a href=https://en.wikipedia.org/wiki/List_of_township-level_divisions_of_Beijing>https://en.wikipedia.org/wiki/List_of_township-level_divisions_of_Beijing</a><br>\n",
    "Shanghai data: <a href=https://en.wikipedia.org/wiki/List_of_township-level_divisions_of_Shanghai>https://en.wikipedia.org/wiki/List_of_township-level_divisions_of_Shanghai</a>\n",
    "</p>"
   ]
  },
  {
   "cell_type": "code",
   "execution_count": null,
   "metadata": {},
   "outputs": [],
   "source": []
  }
 ],
 "metadata": {
  "kernelspec": {
   "display_name": "Python 3",
   "language": "python",
   "name": "python3"
  },
  "language_info": {
   "codemirror_mode": {
    "name": "ipython",
    "version": 3
   },
   "file_extension": ".py",
   "mimetype": "text/x-python",
   "name": "python",
   "nbconvert_exporter": "python",
   "pygments_lexer": "ipython3",
   "version": "3.7.5"
  }
 },
 "nbformat": 4,
 "nbformat_minor": 4
}
